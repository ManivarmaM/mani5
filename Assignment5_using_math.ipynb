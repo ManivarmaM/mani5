{
 "cells": [
  {
   "cell_type": "code",
   "execution_count": 2,
   "metadata": {},
   "outputs": [
    {
     "name": "stdout",
     "output_type": "stream",
     "text": [
      "0.8660254037844386\n",
      "-1.0\n",
      "1.633123935319537e+16\n",
      "The angle of sin(0.8660254037844386):59.99999999999999\n",
      "16384\n",
      "Square root of 400:20.0\n",
      "The value of 5^e:148.4131591025766\n",
      "The value of Log(1024), base 2:10.0\n",
      "The value of Log(1024), base 10:3.010299956639812\n",
      "The Floor and Ceiling value of 23.56 are:24,23\n"
     ]
    }
   ],
   "source": [
    "import math\n",
    "print(math.sin(math.pi/3)) \n",
    "print(math.cos(math.pi))\n",
    "print(math.tan(math.pi/2))\n",
    "print('The angle of sin(0.8660254037844386):'+str(math.degrees(math.asin(0.8660254037844386))))\n",
    "print(pow(4,7))\n",
    "print('Square root of 400:'+str(math.sqrt(400)))\n",
    "print('The value of 5^e:'+str(math.exp(5)))\n",
    "print('The value of Log(1024), base 2:'+str(math.log2(1024)))\n",
    "print('The value of Log(1024), base 10:'+str(math.log10(1024)))\n",
    "print('The Floor and Ceiling value of 23.56 are:'+str(math.ceil(23.56))+','+str(math.floor(23.56)))"
   ]
  },
  {
   "cell_type": "code",
   "execution_count": null,
   "metadata": {},
   "outputs": [],
   "source": []
  }
 ],
 "metadata": {
  "kernelspec": {
   "display_name": "Python 3",
   "language": "python",
   "name": "python3"
  },
  "language_info": {
   "codemirror_mode": {
    "name": "ipython",
    "version": 3
   },
   "file_extension": ".py",
   "mimetype": "text/x-python",
   "name": "python",
   "nbconvert_exporter": "python",
   "pygments_lexer": "ipython3",
   "version": "3.8.3"
  }
 },
 "nbformat": 4,
 "nbformat_minor": 4
}
